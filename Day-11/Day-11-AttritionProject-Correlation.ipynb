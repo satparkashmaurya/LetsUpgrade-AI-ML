{
 "cells": [
  {
   "cell_type": "code",
   "execution_count": 27,
   "metadata": {},
   "outputs": [],
   "source": [
    "import pandas as pd\n",
    "from scipy.stats import pearsonr\n",
    "import matplotlib.pyplot as plt"
   ]
  },
  {
   "cell_type": "code",
   "execution_count": 28,
   "metadata": {},
   "outputs": [],
   "source": [
    "df = pd.read_csv('general_data.csv').dropna()"
   ]
  },
  {
   "cell_type": "code",
   "execution_count": 29,
   "metadata": {},
   "outputs": [],
   "source": [
    "df[\"Attrition\"].replace(to_replace=(\"No\",\"Yes\"),value=(0,1),inplace=True)"
   ]
  },
  {
   "cell_type": "code",
   "execution_count": 30,
   "metadata": {},
   "outputs": [],
   "source": [
    "df[\"Gender\"].replace(to_replace=(\"Male\",\"Female\"),value=(0,1),inplace=True)"
   ]
  },
  {
   "cell_type": "code",
   "execution_count": 31,
   "metadata": {},
   "outputs": [
    {
     "data": {
      "text/html": [
       "<div>\n",
       "<style scoped>\n",
       "    .dataframe tbody tr th:only-of-type {\n",
       "        vertical-align: middle;\n",
       "    }\n",
       "\n",
       "    .dataframe tbody tr th {\n",
       "        vertical-align: top;\n",
       "    }\n",
       "\n",
       "    .dataframe thead th {\n",
       "        text-align: right;\n",
       "    }\n",
       "</style>\n",
       "<table border=\"1\" class=\"dataframe\">\n",
       "  <thead>\n",
       "    <tr style=\"text-align: right;\">\n",
       "      <th></th>\n",
       "      <th>Age</th>\n",
       "      <th>Attrition</th>\n",
       "      <th>BusinessTravel</th>\n",
       "      <th>Department</th>\n",
       "      <th>DistanceFromHome</th>\n",
       "      <th>Education</th>\n",
       "      <th>EducationField</th>\n",
       "      <th>EmployeeCount</th>\n",
       "      <th>EmployeeID</th>\n",
       "      <th>Gender</th>\n",
       "      <th>...</th>\n",
       "      <th>NumCompaniesWorked</th>\n",
       "      <th>Over18</th>\n",
       "      <th>PercentSalaryHike</th>\n",
       "      <th>StandardHours</th>\n",
       "      <th>StockOptionLevel</th>\n",
       "      <th>TotalWorkingYears</th>\n",
       "      <th>TrainingTimesLastYear</th>\n",
       "      <th>YearsAtCompany</th>\n",
       "      <th>YearsSinceLastPromotion</th>\n",
       "      <th>YearsWithCurrManager</th>\n",
       "    </tr>\n",
       "  </thead>\n",
       "  <tbody>\n",
       "    <tr>\n",
       "      <th>0</th>\n",
       "      <td>51</td>\n",
       "      <td>0</td>\n",
       "      <td>Travel_Rarely</td>\n",
       "      <td>Sales</td>\n",
       "      <td>6</td>\n",
       "      <td>2</td>\n",
       "      <td>Life Sciences</td>\n",
       "      <td>1</td>\n",
       "      <td>1</td>\n",
       "      <td>1</td>\n",
       "      <td>...</td>\n",
       "      <td>1.0</td>\n",
       "      <td>Y</td>\n",
       "      <td>11</td>\n",
       "      <td>8</td>\n",
       "      <td>0</td>\n",
       "      <td>1.0</td>\n",
       "      <td>6</td>\n",
       "      <td>1</td>\n",
       "      <td>0</td>\n",
       "      <td>0</td>\n",
       "    </tr>\n",
       "    <tr>\n",
       "      <th>1</th>\n",
       "      <td>31</td>\n",
       "      <td>1</td>\n",
       "      <td>Travel_Frequently</td>\n",
       "      <td>Research &amp; Development</td>\n",
       "      <td>10</td>\n",
       "      <td>1</td>\n",
       "      <td>Life Sciences</td>\n",
       "      <td>1</td>\n",
       "      <td>2</td>\n",
       "      <td>1</td>\n",
       "      <td>...</td>\n",
       "      <td>0.0</td>\n",
       "      <td>Y</td>\n",
       "      <td>23</td>\n",
       "      <td>8</td>\n",
       "      <td>1</td>\n",
       "      <td>6.0</td>\n",
       "      <td>3</td>\n",
       "      <td>5</td>\n",
       "      <td>1</td>\n",
       "      <td>4</td>\n",
       "    </tr>\n",
       "    <tr>\n",
       "      <th>2</th>\n",
       "      <td>32</td>\n",
       "      <td>0</td>\n",
       "      <td>Travel_Frequently</td>\n",
       "      <td>Research &amp; Development</td>\n",
       "      <td>17</td>\n",
       "      <td>4</td>\n",
       "      <td>Other</td>\n",
       "      <td>1</td>\n",
       "      <td>3</td>\n",
       "      <td>0</td>\n",
       "      <td>...</td>\n",
       "      <td>1.0</td>\n",
       "      <td>Y</td>\n",
       "      <td>15</td>\n",
       "      <td>8</td>\n",
       "      <td>3</td>\n",
       "      <td>5.0</td>\n",
       "      <td>2</td>\n",
       "      <td>5</td>\n",
       "      <td>0</td>\n",
       "      <td>3</td>\n",
       "    </tr>\n",
       "    <tr>\n",
       "      <th>3</th>\n",
       "      <td>38</td>\n",
       "      <td>0</td>\n",
       "      <td>Non-Travel</td>\n",
       "      <td>Research &amp; Development</td>\n",
       "      <td>2</td>\n",
       "      <td>5</td>\n",
       "      <td>Life Sciences</td>\n",
       "      <td>1</td>\n",
       "      <td>4</td>\n",
       "      <td>0</td>\n",
       "      <td>...</td>\n",
       "      <td>3.0</td>\n",
       "      <td>Y</td>\n",
       "      <td>11</td>\n",
       "      <td>8</td>\n",
       "      <td>3</td>\n",
       "      <td>13.0</td>\n",
       "      <td>5</td>\n",
       "      <td>8</td>\n",
       "      <td>7</td>\n",
       "      <td>5</td>\n",
       "    </tr>\n",
       "    <tr>\n",
       "      <th>4</th>\n",
       "      <td>32</td>\n",
       "      <td>0</td>\n",
       "      <td>Travel_Rarely</td>\n",
       "      <td>Research &amp; Development</td>\n",
       "      <td>10</td>\n",
       "      <td>1</td>\n",
       "      <td>Medical</td>\n",
       "      <td>1</td>\n",
       "      <td>5</td>\n",
       "      <td>0</td>\n",
       "      <td>...</td>\n",
       "      <td>4.0</td>\n",
       "      <td>Y</td>\n",
       "      <td>12</td>\n",
       "      <td>8</td>\n",
       "      <td>2</td>\n",
       "      <td>9.0</td>\n",
       "      <td>2</td>\n",
       "      <td>6</td>\n",
       "      <td>0</td>\n",
       "      <td>4</td>\n",
       "    </tr>\n",
       "  </tbody>\n",
       "</table>\n",
       "<p>5 rows × 24 columns</p>\n",
       "</div>"
      ],
      "text/plain": [
       "   Age  Attrition     BusinessTravel              Department  \\\n",
       "0   51          0      Travel_Rarely                   Sales   \n",
       "1   31          1  Travel_Frequently  Research & Development   \n",
       "2   32          0  Travel_Frequently  Research & Development   \n",
       "3   38          0         Non-Travel  Research & Development   \n",
       "4   32          0      Travel_Rarely  Research & Development   \n",
       "\n",
       "   DistanceFromHome  Education EducationField  EmployeeCount  EmployeeID  \\\n",
       "0                 6          2  Life Sciences              1           1   \n",
       "1                10          1  Life Sciences              1           2   \n",
       "2                17          4          Other              1           3   \n",
       "3                 2          5  Life Sciences              1           4   \n",
       "4                10          1        Medical              1           5   \n",
       "\n",
       "   Gender  ...  NumCompaniesWorked Over18 PercentSalaryHike  StandardHours  \\\n",
       "0       1  ...                 1.0      Y                11              8   \n",
       "1       1  ...                 0.0      Y                23              8   \n",
       "2       0  ...                 1.0      Y                15              8   \n",
       "3       0  ...                 3.0      Y                11              8   \n",
       "4       0  ...                 4.0      Y                12              8   \n",
       "\n",
       "   StockOptionLevel TotalWorkingYears  TrainingTimesLastYear  YearsAtCompany  \\\n",
       "0                 0               1.0                      6               1   \n",
       "1                 1               6.0                      3               5   \n",
       "2                 3               5.0                      2               5   \n",
       "3                 3              13.0                      5               8   \n",
       "4                 2               9.0                      2               6   \n",
       "\n",
       "   YearsSinceLastPromotion  YearsWithCurrManager  \n",
       "0                        0                     0  \n",
       "1                        1                     4  \n",
       "2                        0                     3  \n",
       "3                        7                     5  \n",
       "4                        0                     4  \n",
       "\n",
       "[5 rows x 24 columns]"
      ]
     },
     "execution_count": 31,
     "metadata": {},
     "output_type": "execute_result"
    }
   ],
   "source": [
    "df.head()"
   ]
  },
  {
   "cell_type": "markdown",
   "metadata": {},
   "source": [
    "# Correlation between Attrition and Monthly Income"
   ]
  },
  {
   "cell_type": "code",
   "execution_count": 32,
   "metadata": {},
   "outputs": [
    {
     "data": {
      "text/plain": [
       "(-0.030160293808460668, 0.045890862744719166)"
      ]
     },
     "execution_count": 32,
     "metadata": {},
     "output_type": "execute_result"
    }
   ],
   "source": [
    "corrAt0, MI = pearsonr(df.MonthlyIncome, df.Attrition)\n",
    "corrAt0, MI"
   ]
  },
  {
   "cell_type": "markdown",
   "metadata": {},
   "source": [
    "# Correlation between Attrition and Age"
   ]
  },
  {
   "cell_type": "code",
   "execution_count": 33,
   "metadata": {},
   "outputs": [
    {
     "data": {
      "text/plain": [
       "(-0.15839867954096706, 5.1265982193780794e-26)"
      ]
     },
     "execution_count": 33,
     "metadata": {},
     "output_type": "execute_result"
    }
   ],
   "source": [
    "corrAt1, AG = pearsonr(df.Attrition, df.Age)\n",
    "corrAt1, AG"
   ]
  },
  {
   "cell_type": "markdown",
   "metadata": {},
   "source": [
    "# Correlation between Attrition and Education "
   ]
  },
  {
   "cell_type": "code",
   "execution_count": 34,
   "metadata": {},
   "outputs": [
    {
     "data": {
      "text/plain": [
       "(-0.017106307050278727, 0.25757539308157945)"
      ]
     },
     "execution_count": 34,
     "metadata": {},
     "output_type": "execute_result"
    }
   ],
   "source": [
    "corrAT2, Edu = pearsonr(df.Attrition, df.Education)\n",
    "corrAT2, Edu"
   ]
  },
  {
   "cell_type": "markdown",
   "metadata": {},
   "source": [
    "# Correlation between Attrition and Gender"
   ]
  },
  {
   "cell_type": "code",
   "execution_count": 35,
   "metadata": {},
   "outputs": [
    {
     "data": {
      "text/plain": [
       "(-0.017106307050278727, 0.25757539308157945)"
      ]
     },
     "execution_count": 35,
     "metadata": {},
     "output_type": "execute_result"
    }
   ],
   "source": [
    "corrAT3, Gen = pearsonr(df.Attrition, df.Education)\n",
    "corrAT3, Gen"
   ]
  },
  {
   "cell_type": "markdown",
   "metadata": {},
   "source": [
    "# Correlation between Attrition and Distance from home"
   ]
  },
  {
   "cell_type": "code",
   "execution_count": 36,
   "metadata": {},
   "outputs": [
    {
     "data": {
      "text/plain": [
       "(-0.009448638515156243, 0.5317715668019558)"
      ]
     },
     "execution_count": 36,
     "metadata": {},
     "output_type": "execute_result"
    }
   ],
   "source": [
    "corrAT4, DiH = pearsonr(df.Attrition, df.DistanceFromHome)\n",
    "corrAT4, DiH"
   ]
  },
  {
   "cell_type": "markdown",
   "metadata": {},
   "source": [
    "# Correlation between Attrition and Years with current manager"
   ]
  },
  {
   "cell_type": "code",
   "execution_count": 37,
   "metadata": {},
   "outputs": [
    {
     "data": {
      "text/plain": [
       "(-0.15469153690287274, 7.105369646771178e-25)"
      ]
     },
     "execution_count": 37,
     "metadata": {},
     "output_type": "execute_result"
    }
   ],
   "source": [
    "corrAT5, CM = pearsonr(df.Attrition, df.YearsWithCurrManager)\n",
    "corrAT5, CM"
   ]
  },
  {
   "cell_type": "markdown",
   "metadata": {},
   "source": [
    "# Correlation between Attrition and Number of Companies Worked"
   ]
  },
  {
   "cell_type": "code",
   "execution_count": 38,
   "metadata": {},
   "outputs": [
    {
     "data": {
      "text/plain": [
       "(0.042830567244720875, 0.004572057121620842)"
      ]
     },
     "execution_count": 38,
     "metadata": {},
     "output_type": "execute_result"
    }
   ],
   "source": [
    "corrAT5, CW = pearsonr(df.Attrition, df.NumCompaniesWorked)\n",
    "corrAT5, CW "
   ]
  },
  {
   "cell_type": "markdown",
   "metadata": {},
   "source": [
    "# Correlation between Attrition and Years since last promotion"
   ]
  },
  {
   "cell_type": "code",
   "execution_count": 39,
   "metadata": {},
   "outputs": [
    {
     "data": {
      "text/plain": [
       "(-0.03142315056330995, 0.03752293607395154)"
      ]
     },
     "execution_count": 39,
     "metadata": {},
     "output_type": "execute_result"
    }
   ],
   "source": [
    "corrAT6, LP = pearsonr(df.Attrition, df.YearsSinceLastPromotion)\n",
    "corrAT6, LP"
   ]
  },
  {
   "cell_type": "markdown",
   "metadata": {},
   "source": [
    "# Correlation between Attrition and Number of Percentage Salary Hike"
   ]
  },
  {
   "cell_type": "code",
   "execution_count": 40,
   "metadata": {},
   "outputs": [
    {
     "data": {
      "text/plain": [
       "(0.03315303713546665, 0.028192446935106235)"
      ]
     },
     "execution_count": 40,
     "metadata": {},
     "output_type": "execute_result"
    }
   ],
   "source": [
    "corrAT7, PSH = pearsonr(df.Attrition, df.PercentSalaryHike)\n",
    "corrAT7, PSH"
   ]
  },
  {
   "cell_type": "markdown",
   "metadata": {},
   "source": [
    "# Correlation between Attrition and Number of Total Working Years"
   ]
  },
  {
   "cell_type": "code",
   "execution_count": 41,
   "metadata": {},
   "outputs": [
    {
     "data": {
      "text/plain": [
       "(-0.16966991684723917, 1.1645434967091854e-29)"
      ]
     },
     "execution_count": 41,
     "metadata": {},
     "output_type": "execute_result"
    }
   ],
   "source": [
    "corrAT8, TWY = pearsonr(df.Attrition, df.TotalWorkingYears)\n",
    "corrAT8, TWY"
   ]
  },
  {
   "cell_type": "markdown",
   "metadata": {},
   "source": [
    "# Correlation of Everyone with Everyone"
   ]
  },
  {
   "cell_type": "code",
   "execution_count": 45,
   "metadata": {},
   "outputs": [
    {
     "name": "stdout",
     "output_type": "stream",
     "text": [
      "                              Age  Attrition  DistanceFromHome  Education  \\\n",
      "Age                      1.000000  -0.158399          0.007376  -0.033900   \n",
      "Attrition               -0.158399   1.000000         -0.009449  -0.017106   \n",
      "DistanceFromHome         0.007376  -0.009449          1.000000  -0.007491   \n",
      "Education               -0.033900  -0.017106         -0.007491   1.000000   \n",
      "EmployeeCount                 NaN        NaN               NaN        NaN   \n",
      "EmployeeID               0.008105  -0.004621         -0.000326  -0.009389   \n",
      "Gender                   0.040625  -0.018396          0.042610   0.017671   \n",
      "JobLevel                -0.001137  -0.012382         -0.039990   0.045822   \n",
      "MonthlyIncome           -0.045163  -0.030160         -0.022757   0.007289   \n",
      "NumCompaniesWorked       0.299527   0.042831         -0.014449  -0.016210   \n",
      "PercentSalaryHike       -0.032561   0.033153          0.037720  -0.041054   \n",
      "StandardHours                 NaN        NaN               NaN        NaN   \n",
      "StockOptionLevel        -0.031504  -0.008164          0.009353   0.002386   \n",
      "TotalWorkingYears        0.680037  -0.169670          0.009574  -0.009228   \n",
      "TrainingTimesLastYear   -0.028962  -0.047586         -0.008957   0.009939   \n",
      "YearsAtCompany           0.311281  -0.133003          0.030746   0.005997   \n",
      "YearsSinceLastPromotion  0.215650  -0.031423          0.002243   0.023457   \n",
      "YearsWithCurrManager     0.201580  -0.154692          0.021773   0.005645   \n",
      "\n",
      "                         EmployeeCount  EmployeeID    Gender  JobLevel  \\\n",
      "Age                                NaN    0.008105  0.040625 -0.001137   \n",
      "Attrition                          NaN   -0.004621 -0.018396 -0.012382   \n",
      "DistanceFromHome                   NaN   -0.000326  0.042610 -0.039990   \n",
      "Education                          NaN   -0.009389  0.017671  0.045822   \n",
      "EmployeeCount                      NaN         NaN       NaN       NaN   \n",
      "EmployeeID                         NaN    1.000000  0.012812 -0.003090   \n",
      "Gender                             NaN    0.012812  1.000000  0.026019   \n",
      "JobLevel                           NaN   -0.003090  0.026019  1.000000   \n",
      "MonthlyIncome                      NaN    0.007865 -0.006805  0.046688   \n",
      "NumCompaniesWorked                 NaN    0.000719  0.066860 -0.009759   \n",
      "PercentSalaryHike                  NaN   -0.004877 -0.013207  0.010874   \n",
      "StandardHours                      NaN         NaN       NaN       NaN   \n",
      "StockOptionLevel                   NaN   -0.013488 -0.022043  0.000365   \n",
      "TotalWorkingYears                  NaN   -0.001688  0.028251 -0.036293   \n",
      "TrainingTimesLastYear              NaN   -0.012102  0.032597 -0.031931   \n",
      "YearsAtCompany                     NaN    0.004117  0.018659 -0.063360   \n",
      "YearsSinceLastPromotion            NaN    0.000814  0.023018 -0.059680   \n",
      "YearsWithCurrManager               NaN    0.009079 -0.002688 -0.053898   \n",
      "\n",
      "                         MonthlyIncome  NumCompaniesWorked  PercentSalaryHike  \\\n",
      "Age                          -0.045163            0.299527          -0.032561   \n",
      "Attrition                    -0.030160            0.042831           0.033153   \n",
      "DistanceFromHome             -0.022757           -0.014449           0.037720   \n",
      "Education                     0.007289           -0.016210          -0.041054   \n",
      "EmployeeCount                      NaN                 NaN                NaN   \n",
      "EmployeeID                    0.007865            0.000719          -0.004877   \n",
      "Gender                       -0.006805            0.066860          -0.013207   \n",
      "JobLevel                      0.046688           -0.009759           0.010874   \n",
      "MonthlyIncome                 1.000000           -0.021446           0.004607   \n",
      "NumCompaniesWorked           -0.021446            1.000000           0.030064   \n",
      "PercentSalaryHike             0.004607            0.030064           1.000000   \n",
      "StandardHours                      NaN                 NaN                NaN   \n",
      "StockOptionLevel              0.027242            0.016291           0.012104   \n",
      "TotalWorkingYears            -0.034398            0.238807          -0.018480   \n",
      "TrainingTimesLastYear         0.049780           -0.031335          -0.036720   \n",
      "YearsAtCompany                0.000088           -0.117213          -0.029022   \n",
      "YearsSinceLastPromotion       0.064470           -0.035855          -0.028654   \n",
      "YearsWithCurrManager          0.023095           -0.109372          -0.039687   \n",
      "\n",
      "                         StandardHours  StockOptionLevel  TotalWorkingYears  \\\n",
      "Age                                NaN         -0.031504           0.680037   \n",
      "Attrition                          NaN         -0.008164          -0.169670   \n",
      "DistanceFromHome                   NaN          0.009353           0.009574   \n",
      "Education                          NaN          0.002386          -0.009228   \n",
      "EmployeeCount                      NaN               NaN                NaN   \n",
      "EmployeeID                         NaN         -0.013488          -0.001688   \n",
      "Gender                             NaN         -0.022043           0.028251   \n",
      "JobLevel                           NaN          0.000365          -0.036293   \n",
      "MonthlyIncome                      NaN          0.027242          -0.034398   \n",
      "NumCompaniesWorked                 NaN          0.016291           0.238807   \n",
      "PercentSalaryHike                  NaN          0.012104          -0.018480   \n",
      "StandardHours                      NaN               NaN                NaN   \n",
      "StockOptionLevel                   NaN          1.000000           0.003138   \n",
      "TotalWorkingYears                  NaN          0.003138           1.000000   \n",
      "TrainingTimesLastYear              NaN         -0.068028          -0.041459   \n",
      "YearsAtCompany                     NaN          0.009369           0.627738   \n",
      "YearsSinceLastPromotion            NaN          0.019889           0.404058   \n",
      "YearsWithCurrManager               NaN          0.019398           0.458640   \n",
      "\n",
      "                         TrainingTimesLastYear  YearsAtCompany  \\\n",
      "Age                                  -0.028962        0.311281   \n",
      "Attrition                            -0.047586       -0.133003   \n",
      "DistanceFromHome                     -0.008957        0.030746   \n",
      "Education                             0.009939        0.005997   \n",
      "EmployeeCount                              NaN             NaN   \n",
      "EmployeeID                           -0.012102        0.004117   \n",
      "Gender                                0.032597        0.018659   \n",
      "JobLevel                             -0.031931       -0.063360   \n",
      "MonthlyIncome                         0.049780        0.000088   \n",
      "NumCompaniesWorked                   -0.031335       -0.117213   \n",
      "PercentSalaryHike                    -0.036720       -0.029022   \n",
      "StandardHours                              NaN             NaN   \n",
      "StockOptionLevel                     -0.068028        0.009369   \n",
      "TotalWorkingYears                    -0.041459        0.627738   \n",
      "TrainingTimesLastYear                 1.000000       -0.010447   \n",
      "YearsAtCompany                       -0.010447        1.000000   \n",
      "YearsSinceLastPromotion               0.015340        0.618722   \n",
      "YearsWithCurrManager                 -0.015792        0.769161   \n",
      "\n",
      "                         YearsSinceLastPromotion  YearsWithCurrManager  \n",
      "Age                                     0.215650              0.201580  \n",
      "Attrition                              -0.031423             -0.154692  \n",
      "DistanceFromHome                        0.002243              0.021773  \n",
      "Education                               0.023457              0.005645  \n",
      "EmployeeCount                                NaN                   NaN  \n",
      "EmployeeID                              0.000814              0.009079  \n",
      "Gender                                  0.023018             -0.002688  \n",
      "JobLevel                               -0.059680             -0.053898  \n",
      "MonthlyIncome                           0.064470              0.023095  \n",
      "NumCompaniesWorked                     -0.035855             -0.109372  \n",
      "PercentSalaryHike                      -0.028654             -0.039687  \n",
      "StandardHours                                NaN                   NaN  \n",
      "StockOptionLevel                        0.019889              0.019398  \n",
      "TotalWorkingYears                       0.404058              0.458640  \n",
      "TrainingTimesLastYear                   0.015340             -0.015792  \n",
      "YearsAtCompany                          0.618722              0.769161  \n",
      "YearsSinceLastPromotion                 1.000000              0.510341  \n",
      "YearsWithCurrManager                    0.510341              1.000000  \n"
     ]
    }
   ],
   "source": [
    "corrMatrix = df.corr()\n",
    "print (corrMatrix)"
   ]
  },
  {
   "cell_type": "markdown",
   "metadata": {},
   "source": [
    "# Plot and See Correlation"
   ]
  },
  {
   "cell_type": "code",
   "execution_count": 42,
   "metadata": {},
   "outputs": [],
   "source": [
    "import seaborn as sns\n",
    "import matplotlib.pyplot as plt"
   ]
  },
  {
   "cell_type": "code",
   "execution_count": 44,
   "metadata": {},
   "outputs": [
    {
     "data": {
      "image/png": "[encoded data removed]",
      "text/plain": [
       "<Figure size 432x288 with 2 Axes>"
      ]
     },
     "metadata": {
      "needs_background": "light"
     },
     "output_type": "display_data"
    }
   ],
   "source": [
    "corrMatrix = df.corr()\n",
    "sns.heatmap(corrMatrix, annot=False)\n",
    "plt.show()"
   ]
  },
  {
   "cell_type": "code",
   "execution_count": null,
   "metadata": {},
   "outputs": [],
   "source": []
  }
 ],
 "metadata": {
  "kernelspec": {
   "display_name": "Python 3",
   "language": "python",
   "name": "python3"
  },
  "language_info": {
   "codemirror_mode": {
    "name": "ipython",
    "version": 3
   },
   "file_extension": ".py",
   "mimetype": "text/x-python",
   "name": "python",
   "nbconvert_exporter": "python",
   "pygments_lexer": "ipython3",
   "version": "3.8.3"
  }
 },
 "nbformat": 4,
 "nbformat_minor": 4
}
