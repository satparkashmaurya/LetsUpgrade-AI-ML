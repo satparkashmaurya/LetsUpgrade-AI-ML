{
 "cells": [
  {
   "cell_type": "markdown",
   "metadata": {},
   "source": [
    "# Question 1 : Substraction of 2 Complex Numbers"
   ]
  },
  {
   "cell_type": "code",
   "execution_count": 8,
   "metadata": {},
   "outputs": [
    {
     "name": "stdout",
     "output_type": "stream",
     "text": [
      "Subtraction of two complex number = (-3-9j)\n"
     ]
    }
   ],
   "source": [
    "c1 = 3 + 6j # Define Complex Number 1\n",
    "c2 = 6 + 15j # Define Complex Number 2\n",
    "s = c1 - c2 # Substraction of the Two Numbers\n",
    "print(\"Substraction of two complex number =\", s) #print result"
   ]
  },
  {
   "cell_type": "markdown",
   "metadata": {},
   "source": [
    "# Question 2 : Write a program to find the fourth root of a number"
   ]
  },
  {
   "cell_type": "code",
   "execution_count": 23,
   "metadata": {},
   "outputs": [
    {
     "name": "stdout",
     "output_type": "stream",
     "text": [
      "the Fourth root of the number is : 3.0\n"
     ]
    }
   ],
   "source": [
    "a = 81 #Define the number\n",
    "b = a**(1/4) #Take the Fourth Square Root by Inversing the multiplication\n",
    "print (\"the Fourth root of the number is :\", b) #print result"
   ]
  },
  {
   "cell_type": "markdown",
   "metadata": {},
   "source": [
    "# Question 3 :Write a program to swap two numbers in Python with the help of a temporary variable"
   ]
  },
  {
   "cell_type": "code",
   "execution_count": 30,
   "metadata": {},
   "outputs": [
    {
     "name": "stdout",
     "output_type": "stream",
     "text": [
      "Original a is  4 , Original b is  5\n",
      "Swapped a is  5 , Swapped b is  4\n"
     ]
    }
   ],
   "source": [
    "a = 4 #Assignment of Number 1\n",
    "b = 5 #Assignment of Number 2\n",
    "print(\"Original a is \",a,\", Original b is \",b) # Printing of Result\n",
    "c = a # Temporary Variable\n",
    "a = b # First Number Swapped into\n",
    "b = c # Second  Number Swapped into\n",
    "print(\"Swapped a is \",a,\", Swapped b is \",b) # Printing of Final Result\n"
   ]
  },
  {
   "cell_type": "markdown",
   "metadata": {},
   "source": [
    "# Question 4 : Write a program to swap two numbers in Python without using a temporary variable"
   ]
  },
  {
   "cell_type": "code",
   "execution_count": 1,
   "metadata": {},
   "outputs": [
    {
     "name": "stdout",
     "output_type": "stream",
     "text": [
      "Original a is  4 , Original b is  5\n",
      "Swapped a is  5 , Swapped b is  4\n"
     ]
    }
   ],
   "source": [
    "a = 4 #Assignment of Number 1\n",
    "b = 5 #Assignment of Number 2\n",
    "print(\"Original a is \",a,\", Original b is \",b) # Printing of Result\n",
    "b = a+b # Sum of the two number\n",
    "a = b-a # First  Number Swapped into and is differnce of the sum\n",
    "b = b-a # Second Number Swapped into\n",
    "print(\"Swapped a is \",a,\", Swapped b is \",b) # Printing of Final Result"
   ]
  },
  {
   "cell_type": "markdown",
   "metadata": {},
   "source": [
    "# Question 5 : Write a program to convert fahrenheit to kelvin and celsius both."
   ]
  },
  {
   "cell_type": "code",
   "execution_count": 19,
   "metadata": {},
   "outputs": [
    {
     "name": "stdout",
     "output_type": "stream",
     "text": [
      "Temperature in Fareneit is  98\n",
      "Temperature in Celesius is  36.67\n",
      "Temperature in Kelvin is  309.82\n"
     ]
    }
   ],
   "source": [
    "F = 98 # Farenheit Value\n",
    "C= (F - 32) / 1.8 # Conversion to Farenheit\n",
    "DC=Decimal(C).quantize(Decimal('1.00')) #Defining Number of Digits\n",
    "print(\"Temperature in Fareneit is \",F) # Printing Temperature in Farenheit\n",
    "print(\"Temperature in Celesius is \",DC) # Printing Temperature in Celesius\n",
    "K = (F+459.67)*(5/9) # Conversion to Kelvin\n",
    "DK=Decimal(K).quantize(Decimal('1.00')) #Defining Number of Digits\n",
    "print(\"Temperature in Kelvin is \",DK) # Printing Temperature in Kelvin"
   ]
  },
  {
   "cell_type": "markdown",
   "metadata": {},
   "source": [
    "# Question 6 : Write a program to demonstrate all the available data types in Python. Hint: Use type() function"
   ]
  },
  {
   "cell_type": "code",
   "execution_count": 25,
   "metadata": {},
   "outputs": [
    {
     "name": "stdout",
     "output_type": "stream",
     "text": [
      " Hello World is <class 'str'>\n",
      " 20 is <class 'int'>\n",
      " 20.5 is <class 'float'>\n",
      " (5+6j) is <class 'complex'>\n",
      " ['Hello', 20, 20.5, (5+6j)] is <class 'list'>\n",
      " ('Hello', 20, 20.5, (5+6j)) is <class 'tuple'>\n",
      " range(0, 5) is <class 'range'>\n",
      " True is <class 'bool'>\n"
     ]
    }
   ],
   "source": [
    "s = \"Hello World\" # Data Entry \n",
    "i = 20 # Data Entry\n",
    "f = 20.5 # Data Entry\n",
    "c = 5+6j # Data Entry\n",
    "l = [\"Hello\",20,20.5,5+6j] # Data Entry\n",
    "t = (\"Hello\",20,20.5,5+6j) # Data Entry\n",
    "r = range(5) # Data Entry\n",
    "b = True # Data Entry\n",
    "print(\"\",s,\"is\",type(s)) # Printing Type\n",
    "print(\"\",i,\"is\",type(i)) # Printing Type\n",
    "print(\"\",f,\"is\",type(f)) # Printing Type\n",
    "print(\"\",c,\"is\",type(c)) # Printing Type\n",
    "print(\"\",l,\"is\",type(l)) # Printing Type\n",
    "print(\"\",t,\"is\",type(t)) # Printing Type\n",
    "print(\"\",r,\"is\",type(r)) # Printing Type\n",
    "print(\"\",b,\"is\",type(b)) # Printing Type"
   ]
  },
  {
   "cell_type": "markdown",
   "metadata": {},
   "source": [
    "# Question 7 : Create a Markdown cell in jupyter and list the steps discussed in the session by Dr. Darshan Ingle sir to create Github profile and upload Githubs Assignment link."
   ]
  },
  {
   "cell_type": "markdown",
   "metadata": {},
   "source": [
    "Go to Github\n",
    "Sign Up for Github\n",
    "Fill the Formalities\n",
    "Naivgate to the Notebook Folder (for Assignment)\n",
    "Navigate to GitHub\n",
    "New Repository - LetsUpgrade AI-ML\n",
    "Description - Assignment\n",
    "Scroll Down- Create Repository\n",
    "Upload an existing file\n",
    "Drag the folder and drop on github\n",
    "Commit Changes\n",
    "Click and View the File\n",
    "Copy the file link from browser"
   ]
  }
 ],
 "metadata": {
  "kernelspec": {
   "display_name": "Python 3",
   "language": "python",
   "name": "python3"
  },
  "language_info": {
   "codemirror_mode": {
    "name": "ipython",
    "version": 3
   },
   "file_extension": ".py",
   "mimetype": "text/x-python",
   "name": "python",
   "nbconvert_exporter": "python",
   "pygments_lexer": "ipython3",
   "version": "3.7.6"
  }
 },
 "nbformat": 4,
 "nbformat_minor": 4
}
