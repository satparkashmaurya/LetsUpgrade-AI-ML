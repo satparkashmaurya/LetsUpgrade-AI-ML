{
 "cells": [
  {
   "cell_type": "markdown",
   "metadata": {},
   "source": [
    "# H1 Question 1 :\n",
    "**Research on whether addition, subtraction, multiplication, division, floor division and modulo\n",
    "operations be performed on complex numbers. Based on your study, implement a Python\n",
    "program to demonstrate these operations.**"
   ]
  },
  {
   "cell_type": "code",
   "execution_count": 10,
   "metadata": {},
   "outputs": [
    {
     "name": "stdout",
     "output_type": "stream",
     "text": [
      "Addition result of two Complex Numbers  (4+6j)\n",
      "Substraction result of two Complex Numbers  (-2-2j)\n",
      "Multiplication result of two Complex Numbers  (-5+10j)\n",
      "Division result of two Complex Numbers  (0.44+0.08j)\n"
     ]
    }
   ],
   "source": [
    "a1 = 1 + 2j # Complex Number 1\n",
    "b1 = 3 + 4j # Complex Number 2\n",
    "add = a1+b1 # Addition of Complex Number 1, Complex Number 2\n",
    "sub = a1-b1 # Substraction of Complex Number 1, Complex Number 2\n",
    "mul = a1*b1 # Multiplication of Complex Number 1, Complex Number 2\n",
    "div = a1/b1 # Division of Complex Number 1, Complex Number 2\n",
    "#fdiv = a1//b1  #can't take floor of complex number\n",
    "#mod = a1%b1 # can't mod complex numbers.\n",
    "print(\"Addition result of two Complex Numbers \", add) # Print Result\n",
    "print(\"Substraction result of two Complex Numbers \", sub) # Print Result\n",
    "print(\"Multiplication result of two Complex Numbers \", mul) # Print Result\n",
    "print(\"Division result of two Complex Numbers \", div) # Print Result"
   ]
  },
  {
   "cell_type": "markdown",
   "metadata": {},
   "source": [
    "## H2 Question 2 :\n",
    "**Research on range() functions and its parameters. Create a markdown cell and write in your own\n",
    "words (no copy-paste from google please) what you understand about it. Implement a small\n",
    "program of your choice on the same."
   ]
  },
  {
   "cell_type": "markdown",
   "metadata": {},
   "source": [
    "Range is a **function** to generate sequential numbers and can take parameters for start, end and the step it needs to jump for next number in the range\n",
    "range (start,end,jump)"
   ]
  },
  {
   "cell_type": "code",
   "execution_count": 12,
   "metadata": {},
   "outputs": [
    {
     "name": "stdout",
     "output_type": "stream",
     "text": [
      "1 \n",
      "\n",
      "8 \n",
      "\n",
      "15 \n",
      "\n",
      "22 \n",
      "\n",
      "29 \n",
      "\n",
      "36 \n",
      "\n"
     ]
    }
   ],
   "source": [
    "x = range (1,40,7) # Range Defintion\n",
    "for n in x: # Conditional Statement\n",
    "    print(n,\"\\n\") # Printing in a new line"
   ]
  },
  {
   "cell_type": "markdown",
   "metadata": {},
   "source": [
    "### H3 Question 3:\n",
    "**Consider two numbers. Perform their subtraction and if the result of subtraction is greater than\n",
    "25, print their multiplication result else print their division result."
   ]
  },
  {
   "cell_type": "code",
   "execution_count": 28,
   "metadata": {},
   "outputs": [
    {
     "name": "stdout",
     "output_type": "stream",
     "text": [
      "Number 60 and Number 25 are multiplied as the difference between them is more than 25, Multiplication output is  1500\n"
     ]
    }
   ],
   "source": [
    "a =60 # Define number 1\n",
    "b = 25 # Define number 2\n",
    "c = a - b # Checking the Difference\n",
    "if c > 25 : # Checking if the difference is greater than 25\n",
    "    d = a *b # Multiply and store in a new variable as difference is more than 25\n",
    "    print(\"Number\",a,\"and Number\",b, \"are multiplied as the difference between them is more than 25, Multiplication output is \", d) # Print\n",
    "elif c < 25 : # Checking if the difference is less than 25\n",
    "        e = a/b # Process this as difference is less than 25\n",
    "        print(\"Number\",a,\"and Number\",b, \"are divided as the difference between them is less than 25, Division output is\", e) # print"
   ]
  },
  {
   "cell_type": "markdown",
   "metadata": {},
   "source": [
    "# H1 Question 4:\n",
    "**Consider a list of 10 elements of integer values. If the number in the list is divisible by 2, print the\n",
    "result as \"square of that number minus 2\"."
   ]
  },
  {
   "cell_type": "code",
   "execution_count": 46,
   "metadata": {},
   "outputs": [
    {
     "name": "stdout",
     "output_type": "stream",
     "text": [
      "The Number  10 from the list is divisible by 2 and the results is 98\n",
      "The Number  12 from the list is divisible by 2 and the results is 142\n",
      "The Number  14 from the list is divisible by 2 and the results is 194\n",
      "The Number  16 from the list is divisible by 2 and the results is 254\n",
      "The Number  28 from the list is divisible by 2 and the results is 782\n",
      "The Number  876 from the list is divisible by 2 and the results is 767374\n",
      "The Number  666 from the list is divisible by 2 and the results is 443554\n"
     ]
    }
   ],
   "source": [
    "l =[10,12,14,13,16,28,709,876,666,345] # Define the List\n",
    "for n in l: # Initialise for Check\n",
    "    d = n%2 # Check for Divisiblity\n",
    "    if d == 0 : # Check continues\n",
    "        f = n*n-2 # In this loop as the previous step is True\n",
    "        print(\"The Number \",n,\"from the list is divisible by 2 and the results is\",f) # Print Result"
   ]
  },
  {
   "cell_type": "markdown",
   "metadata": {},
   "source": [
    "# H1 Question 5:\n",
    "**Consider a list of 10 elements. Print all the elements in the list which are greater than 7 when that\n",
    "number is divided 2."
   ]
  },
  {
   "cell_type": "code",
   "execution_count": 47,
   "metadata": {},
   "outputs": [
    {
     "name": "stdout",
     "output_type": "stream",
     "text": [
      "The Number  16 from the list divided by 2 is greater than 7 and after dividing by 2 is  8.0\n",
      "The Number  28 from the list divided by 2 is greater than 7 and after dividing by 2 is  14.0\n",
      "The Number  709 from the list divided by 2 is greater than 7 and after dividing by 2 is  354.5\n",
      "The Number  876 from the list divided by 2 is greater than 7 and after dividing by 2 is  438.0\n",
      "The Number  666 from the list divided by 2 is greater than 7 and after dividing by 2 is  333.0\n",
      "The Number  345 from the list divided by 2 is greater than 7 and after dividing by 2 is  172.5\n"
     ]
    }
   ],
   "source": [
    "l = [10, 12, 14, 13, 16, 28, 709, 876, 666, 345]  # Define the List\n",
    "for n in l:  # Initialise for Check\n",
    "    d = n / 2  # Check for Divisiblity\n",
    "    if d > 7:  # Check continues\n",
    "        print(\"The Number \", n, \"from the list divided by 2 is greater than 7 and after dividing by 2 is \", d)  # Print Result"
   ]
  },
  {
   "cell_type": "code",
   "execution_count": null,
   "metadata": {},
   "outputs": [],
   "source": []
  }
 ],
 "metadata": {
  "kernelspec": {
   "display_name": "Python 3",
   "language": "python",
   "name": "python3"
  },
  "language_info": {
   "codemirror_mode": {
    "name": "ipython",
    "version": 3
   },
   "file_extension": ".py",
   "mimetype": "text/x-python",
   "name": "python",
   "nbconvert_exporter": "python",
   "pygments_lexer": "ipython3",
   "version": "3.7.6"
  }
 },
 "nbformat": 4,
 "nbformat_minor": 4
}
