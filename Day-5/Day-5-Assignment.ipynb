{
 "cells": [
  {
   "cell_type": "markdown",
   "metadata": {},
   "source": [
    "# H1 Question 1 :\n",
    "**Write a Python program to find the first 20 non-even prime natural numbers.\n"
   ]
  },
  {
   "cell_type": "code",
   "execution_count": 1,
   "metadata": {},
   "outputs": [
    {
     "name": "stdout",
     "output_type": "stream",
     "text": [
      "1 Prime is   1\n",
      "2 Prime is   2\n",
      "3 Prime is   5\n",
      "4 Prime is   7\n",
      "5 Prime is   11\n",
      "6 Prime is   13\n",
      "7 Prime is   17\n",
      "8 Prime is   19\n",
      "9 Prime is   23\n",
      "10 Prime is   29\n",
      "11 Prime is   31\n",
      "12 Prime is   37\n",
      "13 Prime is   41\n",
      "14 Prime is   43\n",
      "15 Prime is   47\n",
      "16 Prime is   53\n",
      "17 Prime is   59\n",
      "18 Prime is   61\n",
      "19 Prime is   67\n",
      "20 Prime is   71\n"
     ]
    }
   ],
   "source": [
    "NP= 20 # Number of Primes Required\n",
    "num=1 # Initialisation\n",
    "div=2 # Divisor Check\n",
    "count=1 # Counter\n",
    "while count <=NP: # For number of primes\n",
    "    while div < num: #For checking divisiblity\n",
    "        num += 1\n",
    "        for div in range(2, num):\n",
    "            if num % div == 0:\n",
    "                break\n",
    "            elif num % div != 0:\n",
    "                continue\n",
    "        div = div + 1\n",
    "    print(count, \"Prime is \", \"\", num)\n",
    "    num=num+1\n",
    "    count=count+1"
   ]
  },
  {
   "cell_type": "markdown",
   "metadata": {},
   "source": [
    "# H1 Question 2 :\n",
    "**Write a Python program to implement 15 functions of string."
   ]
  },
  {
   "cell_type": "code",
   "execution_count": 3,
   "metadata": {},
   "outputs": [
    {
     "name": "stdout",
     "output_type": "stream",
     "text": [
      "Hello, and welcome hello to my world.\n",
      "2\n",
      "hello, and welcome hello to my world.\n",
      "11\n",
      "False\n",
      "HELLO, AND WELCOME HELLO TO MY WORLD.\n",
      "Hello, And Welcome Hello To My World.\n",
      "HELLO, and wELCOME HELLO TO MY WORLD.\n",
      "['hello,', 'AND', 'Welcome', 'hello', 'to', 'my', 'world.']\n",
      "Hi, AND Welcome Hi to my world.\n",
      "hello, and welcome hello to my world.\n",
      "xxxxxxxxxxxxxxxxxxxxxxxxxxxxxxxhello, AND Welcome hello to my world.xxxxxxxxxxxxxxxxxxxxxxxxxxxxxxx\n",
      "b'hello, AND Welcome hello to my world.'\n",
      "Hello +49 Duniya.\n",
      "Bandage    Another\n"
     ]
    }
   ],
   "source": [
    "str = \"hello, AND Welcome hello to my world.\"\n",
    "cap = str.capitalize()\n",
    "print (cap)\n",
    "cnt = str.count(\"hello\")\n",
    "print(cnt)\n",
    "cf =str.casefold()\n",
    "print(cf)\n",
    "fn =str.find(\"Welcome\")\n",
    "print(fn)\n",
    "ia =str.isalpha()\n",
    "print(ia)\n",
    "up=str.upper()\n",
    "print(up)\n",
    "ti =str.title()\n",
    "print(ti)\n",
    "sc=str.swapcase()\n",
    "print(sc)\n",
    "sp=str.split()\n",
    "print(sp)\n",
    "rp=str.replace(\"hello\",\"Hi\")\n",
    "print(rp)\n",
    "lw=str.lower()\n",
    "print(lw)\n",
    "ct=str.center(99,\"x\")\n",
    "print(ct)\n",
    "en=str.encode()\n",
    "print(en)\n",
    "txt = \"Hello {:+} Duniya.\"\n",
    "print(txt.format(49))\n",
    "locald=\"Bandage\"\n",
    "lj=locald.ljust(10)\n",
    "print(lj,\"Another\")"
   ]
  },
  {
   "cell_type": "markdown",
   "metadata": {},
   "source": [
    "# H1 Question 3:\n",
    "**Write a Python program to check if the given string is a Palindrome or Anagram or None of them.\n",
    "Display the message accordingly to the user."
   ]
  },
  {
   "cell_type": "code",
   "execution_count": 1,
   "metadata": {},
   "outputs": [
    {
     "name": "stdout",
     "output_type": "stream",
     "text": [
      "DaD\n",
      "['D', 'a', 'D']\n",
      "['D', 'a', 'D']\n",
      "DaD is palindrome\n"
     ]
    }
   ],
   "source": [
    "# One input does palindrome only\n",
    "a= input() # input value\n",
    "#print(a)\n",
    "l1=list(a[:])\n",
    "print(l1)\n",
    "l2=list(a[::-1])\n",
    "print(l2)\n",
    "st=len(a)\n",
    "#print(\"Length of String \",st)\n",
    "#print(l1[0])\n",
    "#print(l2[0])\n",
    "i=0\n",
    "count=0\n",
    "for i in range(0,st,1):\n",
    "    if l1[i]==l2[i]:\n",
    "        #print(\"Alphabet Matches\",l1[i],i)\n",
    "        count=count+1\n",
    "        i=i+1\n",
    "        continue\n",
    "#print(count)\n",
    "if st == count :\n",
    "    print(a, \"is palindrome\")\n",
    "elif st != count :\n",
    "    print(a, \"is not palindrome\")"
   ]
  },
  {
   "cell_type": "markdown",
   "metadata": {},
   "source": [
    "# H1 Question 4:\n",
    "**Write a Python's user defined function that removes all the additional characters from the string\n",
    "and converts it finally to lower case using built-in lower(). eg: If the string is \"Dr. Darshan Ingle\n",
    "@AI-ML Trainer\", then the output be \"drdarshaningleaimltrainer\"."
   ]
  },
  {
   "cell_type": "code",
   "execution_count": 3,
   "metadata": {},
   "outputs": [
    {
     "name": "stdout",
     "output_type": "stream",
     "text": [
      "Dr. Darshan Ingle @AI-ML Trainer\n",
      "drdarshaningleaimltrainer\n"
     ]
    }
   ],
   "source": [
    "a_string = input()\n",
    "remove_characters = [' ','~', ':', \"'\", '+', '[', '\\\\', '@', '^', '{', '%', '(', '-', '\"', '*', '|', ',', '&', '<', '`', '}', '.', '_', '=', ']', '!', '>', ';', '?', '#', '$', ')', '/']\n",
    "\n",
    "for character in remove_characters:\n",
    "    a_string = a_string.replace(character, \"\")\n",
    "print(a_string.lower())"
   ]
  },
  {
   "cell_type": "code",
   "execution_count": null,
   "metadata": {},
   "outputs": [],
   "source": []
  }
 ],
 "metadata": {
  "kernelspec": {
   "display_name": "Python 3",
   "language": "python",
   "name": "python3"
  },
  "language_info": {
   "codemirror_mode": {
    "name": "ipython",
    "version": 3
   },
   "file_extension": ".py",
   "mimetype": "text/x-python",
   "name": "python",
   "nbconvert_exporter": "python",
   "pygments_lexer": "ipython3",
   "version": "3.7.6"
  }
 },
 "nbformat": 4,
 "nbformat_minor": 4
}
