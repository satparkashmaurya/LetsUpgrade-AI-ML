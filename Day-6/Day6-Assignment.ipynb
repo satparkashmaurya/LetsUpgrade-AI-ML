{
 "cells": [
  {
   "cell_type": "markdown",
   "metadata": {},
   "source": [
    "# H1 Question 1:\n",
    "Assuming that we have some email addresses in the \"username@companyname.com\" format, please write program\n",
    "to print the company name of a given email address. Both user names and company names are composed of letters\n",
    "only.\n",
    "Input Format:\n",
    "The first line of the input contains an email address.\n",
    "Output Format:\n",
    "Print the company name in single line.\n",
    "Example;\n",
    "Input:\n",
    "john@google.com\n",
    "Output:\n",
    "google"
   ]
  },
  {
   "cell_type": "code",
   "execution_count": 1,
   "metadata": {},
   "outputs": [
    {
     "name": "stdout",
     "output_type": "stream",
     "text": [
      "Enter email id in the format of x@y.com :\n",
      "alpha@gamma.com\n",
      "Company Name is : gamma\n"
     ]
    }
   ],
   "source": [
    "print(\"Enter email id in the format of x@y.com :\") # User Input\n",
    "x = input().split(\"@\") # Splitting at @\n",
    "z=str(x[1]).rsplit(\".com\") # Taking input as string and splitting .com\n",
    "print(\"Company Name is :\",z[0]) #Printing Result"
   ]
  },
  {
   "cell_type": "markdown",
   "metadata": {},
   "source": [
    "# H1 Question 2:\n",
    "Write a program that accepts a comma-separated sequence of words as input and prints the words in a comma\n",
    "separated sequence after sorting them alphabetically.\n",
    "Input Format:\n",
    "The first line of input contains words separated by the comma.\n",
    "Output Format:\n",
    "Print the sorted words separated by the comma.\n",
    "Example:\n",
    "Input:\n",
    "without,hello,bag,world\n",
    "Output:\n",
    "bag,hello,without,world"
   ]
  },
  {
   "cell_type": "code",
   "execution_count": 2,
   "metadata": {},
   "outputs": [
    {
     "name": "stdout",
     "output_type": "stream",
     "text": [
      "Enter comma seperated data to sort1,3,6,4\n",
      "Sorted data are  1 3 4 6\n"
     ]
    }
   ],
   "source": [
    "items=[x for x in input(\"Enter comma seperated data to sort\").split(',')] # User Input for Data\n",
    "items.sort() #Data Sorting\n",
    "print (\"Sorted data are \",' '.join(items)) # Use join keyword to print with comma sepearation"
   ]
  },
  {
   "cell_type": "markdown",
   "metadata": {},
   "source": [
    "# H1 Create your own Jupyter Notebook for Sets.\n",
    "Reference link: https://www.w3schools.com/python/python_sets.asp"
   ]
  },
  {
   "cell_type": "code",
   "execution_count": 3,
   "metadata": {},
   "outputs": [
    {
     "name": "stdout",
     "output_type": "stream",
     "text": [
      "{'banana', 'apple', 'mango', 'cherry', 'orange', 'grapes'}\n",
      "6\n",
      "{'apple', 'mango', 'cherry', 'orange', 'grapes'}\n",
      "5\n"
     ]
    }
   ],
   "source": [
    "thisset = {\"apple\", \"banana\", \"cherry\",\"apple\"}\n",
    "# print(thisset)\n",
    "#for x in thisset:\n",
    "  #print(x)\n",
    "#print(\"banana\" in thisset)\n",
    "#thisset.add(\"orange\")\n",
    "thisset.update([\"orange\", \"mango\", \"grapes\"])\n",
    "print(thisset)\n",
    "print(len(thisset))\n",
    "thisset.remove(\"banana\")\n",
    "print(thisset)\n",
    "print(len(thisset))"
   ]
  },
  {
   "cell_type": "code",
   "execution_count": 4,
   "metadata": {},
   "outputs": [
    {
     "name": "stdout",
     "output_type": "stream",
     "text": [
      "{1, 2, 3, 'a', 'c', 'b'}\n",
      "{1, 2, 3, 'a', 'c', 'b'}\n"
     ]
    }
   ],
   "source": [
    "set1 = {\"a\", \"b\" , \"c\"}\n",
    "set2 = {1, 2, 3}\n",
    "set3 = set1.union(set2)\n",
    "print(set3)\n",
    "set1.update(set2)\n",
    "print(set1)"
   ]
  },
  {
   "cell_type": "code",
   "execution_count": 5,
   "metadata": {},
   "outputs": [
    {
     "name": "stdout",
     "output_type": "stream",
     "text": [
      "Yes, apple is a fruit!\n"
     ]
    }
   ],
   "source": [
    "fruits = {\"apple\", \"banana\", \"cherry\"}\n",
    "if \"apple\" in fruits:\n",
    "  print(\"Yes, apple is a fruit!\")"
   ]
  },
  {
   "cell_type": "markdown",
   "metadata": {},
   "source": [
    "# H1 Question 4:\n",
    "Given a list of n-1 numbers ranging from 1 to n, your task is to find the missing number. There are no duplicates.\n",
    "Input Format:\n",
    "The first line contains n-1 numbers with each number separated by a space.\n",
    "Output Format:\n",
    "Print the missing number\n",
    "Example:\n",
    "Input:1 2 4 6 3 7 8\n",
    "Output:5\n",
    "Explanation:\n",
    "In the above list of numbers 5 is missing and hence 5 is the input"
   ]
  },
  {
   "cell_type": "code",
   "execution_count": 6,
   "metadata": {},
   "outputs": [
    {
     "name": "stdout",
     "output_type": "stream",
     "text": [
      "The missing number is : 5\n"
     ]
    }
   ],
   "source": [
    "import numpy as np # Import Numpy to Convert to Array\n",
    "from functools import reduce # Importing Reduce Function\n",
    "\n",
    "LiN = [1, 2, 4, 6, 3, 7, 8] #Input List\n",
    "n = len(LiN) #Lenght of the List\n",
    "total = int((n + 1) * (n + 2) / 2) # Total of n values\n",
    "a = np.array(LiN) # Converting to Array\n",
    "c=reduce( lambda x,y: x+y, a) #Using reduce to get the sum of n-1 values\n",
    "Numb = total - c #Identifying missing number as difference\n",
    "print(\"The missing number is :\",Numb) # printing output"
   ]
  },
  {
   "cell_type": "markdown",
   "metadata": {},
   "source": [
    "# H1 Question 5:\n",
    "With a given list L, write a program to print this list L after removing all duplicate values with original order reserved.\n",
    "Example:\n",
    "If the input list is\n",
    "12 24 35 24 88 120 155 88 120 155\n",
    "Then the output should be\n",
    "12 24 35 88 120 155\n",
    "Explanation:\n",
    "Third, seventh and ninth element of the list L has been removed because it was already present.\n",
    "Input Format:\n",
    "In one line take the elements of the list L with each element separated by a space.\n",
    "Output Format:\n",
    "Print the elements of the modified list in one line with each element separated by a space.\n",
    "Example:\n",
    "Input: 12 24 35 24\n",
    "Output:\n",
    "12 24 35"
   ]
  },
  {
   "cell_type": "code",
   "execution_count": 7,
   "metadata": {},
   "outputs": [
    {
     "name": "stdout",
     "output_type": "stream",
     "text": [
      "Whats your list enter it comma seperated\n",
      "ab,df,vg,ab,bh\n",
      "Deduplicated sorted list is : ['ab', 'df', 'vg', 'bh']\n"
     ]
    }
   ],
   "source": [
    "print(\"Whats your list enter it comma seperated\") # User Prompt for entry\n",
    "mylist = list(input().split(\",\")) # Storing in List removing Comma\n",
    "mylist = list(dict.fromkeys(mylist)) # Storing the list as dictionary as dictionary cannot have duplicate values\n",
    "print(\"Deduplicated sorted list is :\",mylist) #Printing Output"
   ]
  },
  {
   "cell_type": "code",
   "execution_count": null,
   "metadata": {},
   "outputs": [],
   "source": []
  }
 ],
 "metadata": {
  "kernelspec": {
   "display_name": "Python 3",
   "language": "python",
   "name": "python3"
  },
  "language_info": {
   "codemirror_mode": {
    "name": "ipython",
    "version": 3
   },
   "file_extension": ".py",
   "mimetype": "text/x-python",
   "name": "python",
   "nbconvert_exporter": "python",
   "pygments_lexer": "ipython3",
   "version": "3.7.6"
  }
 },
 "nbformat": 4,
 "nbformat_minor": 4
}
